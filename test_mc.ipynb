{
 "cells": [
  {
   "cell_type": "code",
   "execution_count": 175,
   "id": "13a3a05f",
   "metadata": {},
   "outputs": [],
   "source": [
    "from monte_carlo import MonteCarloPricing\n",
    "from black_scholes import OptionPrice\n",
    "from unittest.mock import patch\n",
    "import numpy as np\n",
    "import matplotlib.pyplot as plt\n"
   ]
  },
  {
   "cell_type": "markdown",
   "id": "634d318c",
   "metadata": {},
   "source": [
    "# Initial Monte Carlo Pricing\n",
    "Pricing of European and American Puts and Calls"
   ]
  },
  {
   "cell_type": "code",
   "execution_count": 205,
   "id": "e758d887",
   "metadata": {},
   "outputs": [
    {
     "name": "stdout",
     "output_type": "stream",
     "text": [
      "Price 10.5619 ± 0.9400 (95% CI)\n",
      "Price 10.6192 ± 0.8623 (95% CI)\n",
      "Price 5.5850 ± 0.5368 (95% CI)\n",
      "Price 6.1637 ± 0.4754 (95% CI)\n"
     ]
    }
   ],
   "source": [
    "from monte_carlo import *\n",
    "mc = MonteCarloPricing(S_0=100, X=100, r=0.05, sigma=0.2, T=1.0, num_paths=1000, steps=252)\n",
    "\n",
    "price_e, stderr_e = mc.european(call=True, antithetic=True)\n",
    "print(f\"Price {price_e:.4f} ± {1.96*stderr_e:.4f} (95% CI)\")\n",
    "\n",
    "price_a, stderr_a = mc.american(call=True, antithetic=True)\n",
    "print(f\"Price {price_a:.4f} ± {1.96*stderr_a:.4f} (95% CI)\")\n",
    "\n",
    "price_e, stderr_e = mc.european(call=False, antithetic=True)\n",
    "print(f\"Price {price_e:.4f} ± {1.96*stderr_e:.4f} (95% CI)\")\n",
    "\n",
    "price_a, stderr_a = mc.american(call=False, antithetic=True)\n",
    "print(f\"Price {price_a:.4f} ± {1.96*stderr_a:.4f} (95% CI)\")"
   ]
  },
  {
   "cell_type": "markdown",
   "id": "eb17380a",
   "metadata": {},
   "source": [
    "# Finite Difference Approximation of Sensitivities\n",
    "Finding the sensitivities using Central Difference Estimate of European Call Option (European for now as American options require further computation)"
   ]
  },
  {
   "cell_type": "code",
   "execution_count": 195,
   "id": "ae8e91a0",
   "metadata": {},
   "outputs": [
    {
     "name": "stdout",
     "output_type": "stream",
     "text": [
      "Price 10.4020 ± 0.2866 (95% CI)\n",
      "Delta: 0.6363\n",
      "Vega: 37.2055\n",
      "Rho: 53.2390\n"
     ]
    }
   ],
   "source": [
    "from mc_finite_difference import MonteCarloFiniteDifference\n",
    "\n",
    "mc = MonteCarloPricing(S_0=100, X=100, r=0.05, sigma=0.2, T=1.0, num_paths=10000, steps=252)\n",
    "mc_fd = MonteCarloFiniteDifference(pricer=mc, call=True, antithetic=True, S0_bump=1e-2, sigma_bump=1e-2, r_bump=1e-3)\n",
    "\n",
    "price, stderr = mc_fd.price()\n",
    "print(f\"Price {price:.4f} ± {1.96*stderr:.4f} (95% CI)\")\n",
    "\n",
    "delta = mc_fd.delta()\n",
    "vega = mc_fd.vega()\n",
    "rho = mc_fd.rho()\n",
    "print(f\"Delta: {delta:.4f}\")\n",
    "print(f\"Vega: {vega:.4f}\")\n",
    "print(f\"Rho: {rho:.4f}\")"
   ]
  }
 ],
 "metadata": {
  "kernelspec": {
   "display_name": ".venv",
   "language": "python",
   "name": "python3"
  },
  "language_info": {
   "codemirror_mode": {
    "name": "ipython",
    "version": 3
   },
   "file_extension": ".py",
   "mimetype": "text/x-python",
   "name": "python",
   "nbconvert_exporter": "python",
   "pygments_lexer": "ipython3",
   "version": "3.13.3"
  }
 },
 "nbformat": 4,
 "nbformat_minor": 5
}
